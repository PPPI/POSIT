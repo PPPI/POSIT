{
 "cells": [
  {
   "cell_type": "code",
   "execution_count": 1,
   "metadata": {
    "collapsed": true
   },
   "outputs": [],
   "source": [
    "import os\n",
    "\n",
    "import matplotlib.pyplot as plt\n",
    "import pandas as pd\n",
    "import scipy.sparse as sparse\n",
    "import seaborn as sns\n",
    "from gensim.corpora import Dictionary\n",
    "\n",
    "# Set figure style defaults\n",
    "sns.set_style(\"whitegrid\")\n",
    "figsize=(5,4)\n",
    "dpi=300\n",
    "palette=\"rocket\"\n",
    "sns.set_palette(palette)\n",
    "\n",
    "# Fix plot fonts\n",
    "import matplotlib\n",
    "matplotlib.rcParams['pdf.fonttype'] = 42\n",
    "matplotlib.rcParams['ps.fonttype'] = 42\n",
    "matplotlib.rcParams['mathtext.fontset'] = 'stix'\n",
    "matplotlib.rcParams['font.family'] = 'STIXGeneral'"
   ]
  },
  {
   "cell_type": "code",
   "execution_count": 2,
   "outputs": [],
   "source": [
    "location = '../../data/cooccurrence_maps/%s/cooccurrence_map.npz'\n",
    "languages = ['go', 'java', 'javascript', 'php', 'python', 'ruby',]\n",
    "docstring_sources = ['DOCSTRING'] + ['DOCSTRING-%s' % l for l in languages]\n",
    "so_sources = ['SO'] + ['SO-%s' % l for l in languages]\n",
    "LKML_sources = ['LKML']\n"
   ],
   "metadata": {
    "collapsed": false,
    "pycharm": {
     "name": "#%%\n"
    }
   }
  },
  {
   "cell_type": "code",
   "execution_count": 3,
   "outputs": [],
   "source": [
    "cooc_maps = list()\n",
    "for source in docstring_sources + so_sources + LKML_sources:\n",
    "    cooc_maps.append(sparse.load_npz(location % source))\n",
    "\n",
    "tags_vocab_location = '../../data/corpora/multilingual/so_majority/tags.dct'\n",
    "tags_vocab = Dictionary.load(tags_vocab_location)\n"
   ],
   "metadata": {
    "collapsed": false,
    "pycharm": {
     "name": "#%%\n"
    }
   }
  },
  {
   "cell_type": "code",
   "execution_count": 4,
   "outputs": [],
   "source": [
    "dists_by_source = dict()\n",
    "for source, cooc_map in zip(docstring_sources + so_sources + LKML_sources, cooc_maps):\n",
    "    dists_by_source[source] = dict()\n",
    "    for i, j in zip(*cooc_map.nonzero()):\n",
    "        try:\n",
    "            dists_by_source[source][tags_vocab[i]].append((tags_vocab[j], cooc_map[(i,j)]))\n",
    "        except KeyError:\n",
    "            dists_by_source[source][tags_vocab[i]] = [(tags_vocab[j], cooc_map[(i,j)])]"
   ],
   "metadata": {
    "collapsed": false,
    "pycharm": {
     "name": "#%%\n"
    }
   }
  },
  {
   "cell_type": "code",
   "execution_count": 5,
   "outputs": [],
   "source": [
    "for source in dists_by_source.keys():\n",
    "    inner_view = dists_by_source[source]\n",
    "    for tag in [t for t in inner_view.keys() if (t.upper() == t and t.isalpha()) or t[-1] == '$']:\n",
    "        data = pd.DataFrame(data={tag: dict(\n",
    "            filter(lambda p: p[0] != '@O@' and not((p[0].upper() == p[0] and p[0].isalpha()) or p[0][-1] == '$'),\n",
    "                   sorted(inner_view[tag], key=lambda p: p[-1], reverse=True)))})\n",
    "        data['Co-Occurring Tag'] = data.index\n",
    "        if len(data) > 0:\n",
    "            fig = plt.figure(figsize=figsize, dpi=dpi)\n",
    "            ax = fig.gca()\n",
    "            plot = sns.barplot(data=data,\n",
    "                        x='Co-Occurring Tag',\n",
    "                        y=tag,\n",
    "                        order=reversed(data.sort_values(tag)['Co-Occurring Tag']),\n",
    "                        palette=palette,\n",
    "                        ax=ax)\n",
    "            plt.yscale('log')\n",
    "            ax.tick_params(axis='x', rotation=90)\n",
    "            plot.set_ylabel('Co-Occurrences for %s' % tag)\n",
    "            plot.set_title('Co-Occurrences for \"%s\"' % source)\n",
    "            os.makedirs('./plots/%s' % source, exist_ok=True)\n",
    "            plt.savefig(\"./plots/%s/%s.pdf\" % (source, tag),\n",
    "                #This is simple recomendation for publication plots\n",
    "                dpi=1000,\n",
    "                # Plot will be occupy a maximum of available space\n",
    "                bbox_inches='tight',\n",
    "            )\n",
    "            plt.close(fig)"
   ],
   "metadata": {
    "collapsed": false,
    "pycharm": {
     "name": "#%%\n"
    }
   }
  }
 ],
 "metadata": {
  "kernelspec": {
   "name": "pycharm-cfc410b5",
   "language": "python",
   "display_name": "PyCharm (posit)"
  },
  "language_info": {
   "codemirror_mode": {
    "name": "ipython",
    "version": 2
   },
   "file_extension": ".py",
   "mimetype": "text/x-python",
   "name": "python",
   "nbconvert_exporter": "python",
   "pygments_lexer": "ipython2",
   "version": "2.7.6"
  }
 },
 "nbformat": 4,
 "nbformat_minor": 0
}